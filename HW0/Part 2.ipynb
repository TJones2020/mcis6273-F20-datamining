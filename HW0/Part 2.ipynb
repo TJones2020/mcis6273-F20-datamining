{
 "cells": [
  {
   "cell_type": "code",
   "execution_count": 3,
   "metadata": {},
   "outputs": [],
   "source": [
    "import pandas as pd\n",
    "s = pd.read_csv(\"hawaii_enrollments.csv\", index_col = 0)"
   ]
  },
  {
   "cell_type": "code",
   "execution_count": 7,
   "metadata": {},
   "outputs": [
    {
     "data": {
      "text/plain": [
       "True     65947\n",
       "False    20716\n",
       "Name: YEAR, dtype: int64"
      ]
     },
     "execution_count": 7,
     "metadata": {},
     "output_type": "execute_result"
    }
   ],
   "source": [
    "tot_enroll_count = s['YEAR'] > 2013\n",
    "tot_enroll_count.value_counts()"
   ]
  },
  {
   "cell_type": "code",
   "execution_count": 8,
   "metadata": {},
   "outputs": [],
   "source": [
    "#1: 65947 cummulatively enrolled from 2014 to 2019"
   ]
  },
  {
   "cell_type": "code",
   "execution_count": 9,
   "metadata": {},
   "outputs": [
    {
     "data": {
      "text/plain": [
       "University of Hawai`i at Manoa        27339\n",
       "University of Hawai`i at Hilo          7333\n",
       "Kapi`olani Community College           7263\n",
       "Leeward Community College              5514\n",
       "Honolulu Community College             4375\n",
       "Hawai`i Community College              3271\n",
       "Windward Community College             3249\n",
       "University of Hawai`i - West O`ahu     3062\n",
       "University of Hawai`i Maui College     3037\n",
       "Kaua`i Community College               1504\n",
       "Name: IRO_INSTITUTION_DESCL, dtype: int64"
      ]
     },
     "execution_count": 9,
     "metadata": {},
     "output_type": "execute_result"
    }
   ],
   "source": [
    "tot_enroll = s[s['YEAR'] > 2013]\n",
    "tot_enroll['IRO_INSTITUTION_DESCL'].value_counts()"
   ]
  },
  {
   "cell_type": "code",
   "execution_count": 10,
   "metadata": {},
   "outputs": [],
   "source": [
    "#2: The University of Hawai'i at Manoa had the most cummulatively enrolled from 2014-2019.\n",
    "#3: The Kaua'i Community College had the least cummulatively enrolled."
   ]
  },
  {
   "cell_type": "code",
   "execution_count": 11,
   "metadata": {},
   "outputs": [
    {
     "data": {
      "text/plain": [
       "96706    1222\n",
       "96797    1210\n",
       "96744    1141\n",
       "96789    1093\n",
       "96817     993\n",
       "         ... \n",
       "76085       1\n",
       "48550       1\n",
       "01237       1\n",
       "75939       1\n",
       "34237       1\n",
       "Name: SPRADDR_ZIP_PR, Length: 7625, dtype: int64"
      ]
     },
     "execution_count": 11,
     "metadata": {},
     "output_type": "execute_result"
    }
   ],
   "source": [
    "tot_zip = tot_enroll['SPRADDR_ZIP_PR'].value_counts()\n",
    "tot_zip"
   ]
  },
  {
   "cell_type": "code",
   "execution_count": 12,
   "metadata": {},
   "outputs": [],
   "source": [
    "#4: The largest number of students come from the zip code \"96706\"."
   ]
  },
  {
   "cell_type": "code",
   "execution_count": 17,
   "metadata": {},
   "outputs": [
    {
     "data": {
      "text/plain": [
       "96822    256\n",
       "96816    242\n",
       "96789    216\n",
       "96826    204\n",
       "96817    203\n",
       "        ... \n",
       "55803      1\n",
       "12545      1\n",
       "04473      1\n",
       "54880      1\n",
       "57018      1\n",
       "Name: SPRADDR_ZIP_PR, Length: 5709, dtype: int64"
      ]
     },
     "execution_count": 17,
     "metadata": {},
     "output_type": "execute_result"
    }
   ],
   "source": [
    "manoa_enroll = tot_enroll[tot_enroll['IRO_INSTITUTION_DESCL'] == 'University of Hawai`i at Manoa']\n",
    "manoa_zip = manoa_enroll['SPRADDR_ZIP_PR'].value_counts()\n",
    "manoa_zip"
   ]
  },
  {
   "cell_type": "code",
   "execution_count": 18,
   "metadata": {},
   "outputs": [],
   "source": [
    "#5: For the Manoa Campus, the most students come from the \"96822\" zip code."
   ]
  },
  {
   "cell_type": "code",
   "execution_count": 52,
   "metadata": {},
   "outputs": [],
   "source": [
    "manoa_zip.to_csv('manoa_zip.csv')"
   ]
  },
  {
   "cell_type": "code",
   "execution_count": null,
   "metadata": {},
   "outputs": [],
   "source": []
  }
 ],
 "metadata": {
  "kernelspec": {
   "display_name": "Python 3",
   "language": "python",
   "name": "python3"
  },
  "language_info": {
   "codemirror_mode": {
    "name": "ipython",
    "version": 3
   },
   "file_extension": ".py",
   "mimetype": "text/x-python",
   "name": "python",
   "nbconvert_exporter": "python",
   "pygments_lexer": "ipython3",
   "version": "3.8.5"
  }
 },
 "nbformat": 4,
 "nbformat_minor": 4
}
